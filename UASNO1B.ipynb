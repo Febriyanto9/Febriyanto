{
  "nbformat": 4,
  "nbformat_minor": 0,
  "metadata": {
    "colab": {
      "name": "Untitled8.ipynb",
      "provenance": [],
      "authorship_tag": "ABX9TyOw6/UE5iNOdIyNzZmdJ5ep",
      "include_colab_link": true
    },
    "kernelspec": {
      "name": "python3",
      "display_name": "Python 3"
    }
  },
  "cells": [
    {
      "cell_type": "markdown",
      "metadata": {
        "id": "view-in-github",
        "colab_type": "text"
      },
      "source": [
        "<a href=\"https://colab.research.google.com/github/Febriyanto9/Febriyanto/blob/main/UASNO1B.ipynb\" target=\"_parent\"><img src=\"https://colab.research.google.com/assets/colab-badge.svg\" alt=\"Open In Colab\"/></a>"
      ]
    },
    {
      "cell_type": "code",
      "metadata": {
        "id": "FGcxc8DcfKzx"
      },
      "source": [
        "#dataset\r\n",
        "JenisKelamin=['Laki-Laki','Laki-Laki','Perempuan','Perempuan','Laki-Laki','Laki-Laki','Perempuan','Perempuan','Laki-Laki','Perempuan']\r\n",
        "BiayaPerjalanan=['Murah','Murah','Murah','Murah','Murah','Standar','Standar','Mahal','Mahal','Mahal']\r\n",
        "IncomeLevel=['Rendah','Sedang','Sedang','Rendah','Sedang','Sedang','Sedang','Tinggi','Sedang','Tinggi']\r\n",
        "ModelTransportasi=['Bus','Bus','Kereta Api','Bus','Bus','Kereta Api','Kereta Api','Mobil','Mobil','Mobil']\r\n",
        "Tujuan=['No','Yes','Yes','No','Yes','No','Yes','Yes','No','No']"
      ],
      "execution_count": 1,
      "outputs": []
    },
    {
      "cell_type": "code",
      "metadata": {
        "colab": {
          "base_uri": "https://localhost:8080/"
        },
        "id": "YwJaxc_Jf302",
        "outputId": "a58b02c0-8d58-43d3-95a4-ea36083325a3"
      },
      "source": [
        "#Import LabelEncoder\r\n",
        "from sklearn import preprocessing\r\n",
        "#creating labelEncoder\r\n",
        "le = preprocessing.LabelEncoder()\r\n",
        "#Convert label string ke numbers\r\n",
        "JenisKelamin_encoded=le.fit_transform(JenisKelamin)\r\n",
        "print (JenisKelamin_encoded)"
      ],
      "execution_count": 2,
      "outputs": [
        {
          "output_type": "stream",
          "text": [
            "[0 0 1 1 0 0 1 1 0 1]\n"
          ],
          "name": "stdout"
        }
      ]
    },
    {
      "cell_type": "code",
      "metadata": {
        "colab": {
          "base_uri": "https://localhost:8080/"
        },
        "id": "_3zAv2D6gSs0",
        "outputId": "58f12f18-e60f-4113-ede8-c3727ce3dec3"
      },
      "source": [
        "#Import LabelEncoder\r\n",
        "from sklearn import preprocessing\r\n",
        "#creating labelEncoder\r\n",
        "label = preprocessing.LabelEncoder()\r\n",
        "#Convert label string ke numbers\r\n",
        "BiayaPerjalanan_encoded=label.fit_transform(BiayaPerjalanan)\r\n",
        "print (BiayaPerjalanan_encoded) \r\n",
        "\r\n",
        "IncomeLevel_encoded=label.fit_transform(IncomeLevel)\r\n",
        "print (IncomeLevel_encoded)\r\n",
        "\r\n",
        "ModelTransportasi_encoded=label.fit_transform(ModelTransportasi)\r\n",
        "print (ModelTransportasi_encoded)\r\n",
        "\r\n",
        "Tujuan_encoded=label.fit_transform(Tujuan)\r\n",
        "print (Tujuan_encoded)"
      ],
      "execution_count": 6,
      "outputs": [
        {
          "output_type": "stream",
          "text": [
            "[1 1 1 1 1 2 2 0 0 0]\n",
            "[0 1 1 0 1 1 1 2 1 2]\n",
            "[0 0 1 0 0 1 1 2 2 2]\n",
            "[0 1 1 0 1 0 1 1 0 0]\n"
          ],
          "name": "stdout"
        }
      ]
    },
    {
      "cell_type": "code",
      "metadata": {
        "colab": {
          "base_uri": "https://localhost:8080/"
        },
        "id": "8kvIB19viUvQ",
        "outputId": "775573d3-7ffe-4975-c296-368ae5de8139"
      },
      "source": [
        "print(\"Jenis Kelamin            :\",JenisKelamin_encoded)\r\n",
        "print(\"Biaya Perjalanan(Rp)/km  :\",BiayaPerjalanan_encoded)\r\n",
        "print(\"Income Level             :\",IncomeLevel_encoded)\r\n",
        "print(\"ModelTransportasi        :\",ModelTransportasi_encoded)\r\n",
        "print(\"Tujuan                   :\",Tujuan_encoded)#class"
      ],
      "execution_count": 7,
      "outputs": [
        {
          "output_type": "stream",
          "text": [
            "Jenis Kelamin            : [0 0 1 1 0 0 1 1 0 1]\n",
            "Biaya Perjalanan(Rp)/km  : [1 1 1 1 1 2 2 0 0 0]\n",
            "Income Level             : [0 1 1 0 1 1 1 2 1 2]\n",
            "ModelTransportasi        : [0 0 1 0 0 1 1 2 2 2]\n",
            "Tujuan                   : [0 1 1 0 1 0 1 1 0 0]\n"
          ],
          "name": "stdout"
        }
      ]
    },
    {
      "cell_type": "code",
      "metadata": {
        "colab": {
          "base_uri": "https://localhost:8080/"
        },
        "id": "L2vSM_FJigPf",
        "outputId": "0070eeba-046d-46d7-b683-ab2d4c5b4889"
      },
      "source": [
        "features=zip(JenisKelamin_encoded,BiayaPerjalanan_encoded,IncomeLevel_encoded,ModelTransportasi_encoded)\r\n",
        "features=list(features)\r\n",
        "print (tuple(features))"
      ],
      "execution_count": 8,
      "outputs": [
        {
          "output_type": "stream",
          "text": [
            "((0, 1, 0, 0), (0, 1, 1, 0), (1, 1, 1, 1), (1, 1, 0, 0), (0, 1, 1, 0), (0, 2, 1, 1), (1, 2, 1, 1), (1, 0, 2, 2), (0, 0, 1, 2), (1, 0, 2, 2))\n"
          ],
          "name": "stdout"
        }
      ]
    },
    {
      "cell_type": "code",
      "metadata": {
        "colab": {
          "base_uri": "https://localhost:8080/"
        },
        "id": "z2-FJ-zGiuBi",
        "outputId": "154872a1-20dd-47c1-a8a5-422c098d5d1f"
      },
      "source": [
        "#Import Gaussian Naive Bayes model\r\n",
        "from sklearn.naive_bayes import GaussianNB\r\n",
        "\r\n",
        "#Panggil Gaussian Classifier\r\n",
        "model = GaussianNB()\r\n",
        "\r\n",
        "#Train model untuk data training\r\n",
        "model.fit(features,Tujuan)\r\n",
        "#Model.fit(features,label.reshape(-1,1))\r\n",
        "\r\n",
        "#Peridiction Output\r\n",
        "predicted = model.predict([[1,2,0,0]]) #1 : perempuan, 2: Standar, 0: Rendah , 0 : Bus\r\n",
        "print (\"Hasil Perdiksi:\", predicted)"
      ],
      "execution_count": 11,
      "outputs": [
        {
          "output_type": "stream",
          "text": [
            "Hasil Perdiksi: ['No']\n"
          ],
          "name": "stdout"
        }
      ]
    }
  ]
}