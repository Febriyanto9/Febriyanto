{
  "nbformat": 4,
  "nbformat_minor": 0,
  "metadata": {
    "colab": {
      "name": "Untitled5.ipynb",
      "provenance": [],
      "toc_visible": true,
      "mount_file_id": "1tu4nV2bnGFeyGcyw68mZNizQQwu4gYOv",
      "authorship_tag": "ABX9TyNujr99dtRLTNSELIANwyTf",
      "include_colab_link": true
    },
    "kernelspec": {
      "name": "python3",
      "display_name": "Python 3"
    }
  },
  "cells": [
    {
      "cell_type": "markdown",
      "metadata": {
        "id": "view-in-github",
        "colab_type": "text"
      },
      "source": [
        "<a href=\"https://colab.research.google.com/github/Febriyanto9/Febriyanto/blob/main/UTS_FEBRIYANTO_2018102033.ipynb\" target=\"_parent\"><img src=\"https://colab.research.google.com/assets/colab-badge.svg\" alt=\"Open In Colab\"/></a>"
      ]
    },
    {
      "cell_type": "code",
      "metadata": {
        "colab": {
          "base_uri": "https://localhost:8080/",
          "height": 1000
        },
        "id": "P6h_bQW7R0NU",
        "outputId": "73b9c855-3c3d-42fb-f98c-d2d000be4929"
      },
      "source": [
        "import pandas as pd\n",
        "import numpy as np\n",
        "path_=\"drive/MyDrive/machine learning/angka_sekolah.csv\"\n",
        "dataset=pd.read_csv(path_)\n",
        "dataset"
      ],
      "execution_count": 4,
      "outputs": [
        {
          "output_type": "execute_result",
          "data": {
            "text/html": [
              "<div>\n",
              "<style scoped>\n",
              "    .dataframe tbody tr th:only-of-type {\n",
              "        vertical-align: middle;\n",
              "    }\n",
              "\n",
              "    .dataframe tbody tr th {\n",
              "        vertical-align: top;\n",
              "    }\n",
              "\n",
              "    .dataframe thead th {\n",
              "        text-align: right;\n",
              "    }\n",
              "</style>\n",
              "<table border=\"1\" class=\"dataframe\">\n",
              "  <thead>\n",
              "    <tr style=\"text-align: right;\">\n",
              "      <th></th>\n",
              "      <th>Provinsi</th>\n",
              "      <th>SD</th>\n",
              "      <th>SMP</th>\n",
              "      <th>SMA</th>\n",
              "      <th>PT</th>\n",
              "    </tr>\n",
              "  </thead>\n",
              "  <tbody>\n",
              "    <tr>\n",
              "      <th>0</th>\n",
              "      <td>ACEH</td>\n",
              "      <td>99.85</td>\n",
              "      <td>98.09</td>\n",
              "      <td>82.15</td>\n",
              "      <td>34.28</td>\n",
              "    </tr>\n",
              "    <tr>\n",
              "      <th>1</th>\n",
              "      <td>SUMATERA UTARA</td>\n",
              "      <td>99.49</td>\n",
              "      <td>96.60</td>\n",
              "      <td>76.76</td>\n",
              "      <td>26.80</td>\n",
              "    </tr>\n",
              "    <tr>\n",
              "      <th>2</th>\n",
              "      <td>SUMATERA BARAT</td>\n",
              "      <td>99.50</td>\n",
              "      <td>96.29</td>\n",
              "      <td>82.86</td>\n",
              "      <td>35.45</td>\n",
              "    </tr>\n",
              "    <tr>\n",
              "      <th>3</th>\n",
              "      <td>RIAU</td>\n",
              "      <td>98.98</td>\n",
              "      <td>94.73</td>\n",
              "      <td>76.52</td>\n",
              "      <td>27.28</td>\n",
              "    </tr>\n",
              "    <tr>\n",
              "      <th>4</th>\n",
              "      <td>JAMBI</td>\n",
              "      <td>99.59</td>\n",
              "      <td>95.89</td>\n",
              "      <td>71.54</td>\n",
              "      <td>24.12</td>\n",
              "    </tr>\n",
              "    <tr>\n",
              "      <th>5</th>\n",
              "      <td>SUMATERA SELATAN</td>\n",
              "      <td>99.63</td>\n",
              "      <td>94.01</td>\n",
              "      <td>69.05</td>\n",
              "      <td>19.17</td>\n",
              "    </tr>\n",
              "    <tr>\n",
              "      <th>6</th>\n",
              "      <td>BENGKULU</td>\n",
              "      <td>99.80</td>\n",
              "      <td>97.20</td>\n",
              "      <td>79.07</td>\n",
              "      <td>29.90</td>\n",
              "    </tr>\n",
              "    <tr>\n",
              "      <th>7</th>\n",
              "      <td>LAMPUNG</td>\n",
              "      <td>99.78</td>\n",
              "      <td>94.76</td>\n",
              "      <td>70.03</td>\n",
              "      <td>20.96</td>\n",
              "    </tr>\n",
              "    <tr>\n",
              "      <th>8</th>\n",
              "      <td>KEP. BANGKA BELITUNG</td>\n",
              "      <td>99.64</td>\n",
              "      <td>92.41</td>\n",
              "      <td>66.99</td>\n",
              "      <td>14.99</td>\n",
              "    </tr>\n",
              "    <tr>\n",
              "      <th>9</th>\n",
              "      <td>KEP. RIAU</td>\n",
              "      <td>99.32</td>\n",
              "      <td>99.08</td>\n",
              "      <td>82.80</td>\n",
              "      <td>19.13</td>\n",
              "    </tr>\n",
              "    <tr>\n",
              "      <th>10</th>\n",
              "      <td>DKI JAKARTA</td>\n",
              "      <td>99.67</td>\n",
              "      <td>97.64</td>\n",
              "      <td>71.50</td>\n",
              "      <td>24.60</td>\n",
              "    </tr>\n",
              "    <tr>\n",
              "      <th>11</th>\n",
              "      <td>JAWA BARAT</td>\n",
              "      <td>99.51</td>\n",
              "      <td>93.77</td>\n",
              "      <td>66.62</td>\n",
              "      <td>21.50</td>\n",
              "    </tr>\n",
              "    <tr>\n",
              "      <th>12</th>\n",
              "      <td>JAWA TENGAH</td>\n",
              "      <td>99.62</td>\n",
              "      <td>95.48</td>\n",
              "      <td>68.48</td>\n",
              "      <td>22.13</td>\n",
              "    </tr>\n",
              "    <tr>\n",
              "      <th>13</th>\n",
              "      <td>DI YOGYAKARTA</td>\n",
              "      <td>99.87</td>\n",
              "      <td>99.63</td>\n",
              "      <td>87.61</td>\n",
              "      <td>51.33</td>\n",
              "    </tr>\n",
              "    <tr>\n",
              "      <th>14</th>\n",
              "      <td>JAWA TIMUR</td>\n",
              "      <td>99.57</td>\n",
              "      <td>96.77</td>\n",
              "      <td>71.51</td>\n",
              "      <td>23.34</td>\n",
              "    </tr>\n",
              "    <tr>\n",
              "      <th>15</th>\n",
              "      <td>BANTEN</td>\n",
              "      <td>99.31</td>\n",
              "      <td>95.67</td>\n",
              "      <td>67.77</td>\n",
              "      <td>21.33</td>\n",
              "    </tr>\n",
              "    <tr>\n",
              "      <th>16</th>\n",
              "      <td>BALI</td>\n",
              "      <td>99.44</td>\n",
              "      <td>97.72</td>\n",
              "      <td>82.16</td>\n",
              "      <td>26.56</td>\n",
              "    </tr>\n",
              "    <tr>\n",
              "      <th>17</th>\n",
              "      <td>NUSA TENGGARA BARAT</td>\n",
              "      <td>99.43</td>\n",
              "      <td>97.69</td>\n",
              "      <td>76.61</td>\n",
              "      <td>28.52</td>\n",
              "    </tr>\n",
              "    <tr>\n",
              "      <th>18</th>\n",
              "      <td>NUSA TENGGARA TIMUR</td>\n",
              "      <td>98.27</td>\n",
              "      <td>94.76</td>\n",
              "      <td>74.65</td>\n",
              "      <td>27.80</td>\n",
              "    </tr>\n",
              "    <tr>\n",
              "      <th>19</th>\n",
              "      <td>KALIMANTAN BARAT</td>\n",
              "      <td>98.44</td>\n",
              "      <td>92.51</td>\n",
              "      <td>67.53</td>\n",
              "      <td>25.80</td>\n",
              "    </tr>\n",
              "    <tr>\n",
              "      <th>20</th>\n",
              "      <td>KALIMANTAN TENGAH</td>\n",
              "      <td>99.50</td>\n",
              "      <td>93.37</td>\n",
              "      <td>66.62</td>\n",
              "      <td>24.15</td>\n",
              "    </tr>\n",
              "    <tr>\n",
              "      <th>21</th>\n",
              "      <td>KALIMANTAN SELATAN</td>\n",
              "      <td>99.55</td>\n",
              "      <td>92.33</td>\n",
              "      <td>68.30</td>\n",
              "      <td>23.53</td>\n",
              "    </tr>\n",
              "    <tr>\n",
              "      <th>22</th>\n",
              "      <td>KALIMANTAN TIMUR</td>\n",
              "      <td>99.67</td>\n",
              "      <td>98.79</td>\n",
              "      <td>81.32</td>\n",
              "      <td>30.04</td>\n",
              "    </tr>\n",
              "    <tr>\n",
              "      <th>23</th>\n",
              "      <td>KALIMANTAN UTARA</td>\n",
              "      <td>98.34</td>\n",
              "      <td>96.04</td>\n",
              "      <td>75.12</td>\n",
              "      <td>20.72</td>\n",
              "    </tr>\n",
              "    <tr>\n",
              "      <th>24</th>\n",
              "      <td>SULAWESI UTARA</td>\n",
              "      <td>99.37</td>\n",
              "      <td>94.91</td>\n",
              "      <td>73.04</td>\n",
              "      <td>24.22</td>\n",
              "    </tr>\n",
              "    <tr>\n",
              "      <th>25</th>\n",
              "      <td>SULAWESI TENGAH</td>\n",
              "      <td>98.15</td>\n",
              "      <td>92.41</td>\n",
              "      <td>74.87</td>\n",
              "      <td>26.31</td>\n",
              "    </tr>\n",
              "    <tr>\n",
              "      <th>26</th>\n",
              "      <td>SULAWESI SELATAN</td>\n",
              "      <td>99.16</td>\n",
              "      <td>93.09</td>\n",
              "      <td>70.60</td>\n",
              "      <td>32.16</td>\n",
              "    </tr>\n",
              "    <tr>\n",
              "      <th>27</th>\n",
              "      <td>SULAWESI TENGGARA</td>\n",
              "      <td>99.32</td>\n",
              "      <td>94.08</td>\n",
              "      <td>72.94</td>\n",
              "      <td>30.03</td>\n",
              "    </tr>\n",
              "    <tr>\n",
              "      <th>28</th>\n",
              "      <td>GORONTALO</td>\n",
              "      <td>98.76</td>\n",
              "      <td>91.23</td>\n",
              "      <td>69.86</td>\n",
              "      <td>29.21</td>\n",
              "    </tr>\n",
              "    <tr>\n",
              "      <th>29</th>\n",
              "      <td>SULAWESI BARAT</td>\n",
              "      <td>98.10</td>\n",
              "      <td>89.88</td>\n",
              "      <td>68.03</td>\n",
              "      <td>23.49</td>\n",
              "    </tr>\n",
              "    <tr>\n",
              "      <th>30</th>\n",
              "      <td>MALUKU</td>\n",
              "      <td>99.72</td>\n",
              "      <td>96.86</td>\n",
              "      <td>79.08</td>\n",
              "      <td>38.20</td>\n",
              "    </tr>\n",
              "    <tr>\n",
              "      <th>31</th>\n",
              "      <td>MALUKU UTARA</td>\n",
              "      <td>99.19</td>\n",
              "      <td>97.24</td>\n",
              "      <td>76.06</td>\n",
              "      <td>32.10</td>\n",
              "    </tr>\n",
              "    <tr>\n",
              "      <th>32</th>\n",
              "      <td>PAPUA BARAT</td>\n",
              "      <td>97.27</td>\n",
              "      <td>96.92</td>\n",
              "      <td>80.60</td>\n",
              "      <td>31.92</td>\n",
              "    </tr>\n",
              "    <tr>\n",
              "      <th>33</th>\n",
              "      <td>PAPUA</td>\n",
              "      <td>81.80</td>\n",
              "      <td>79.09</td>\n",
              "      <td>63.35</td>\n",
              "      <td>24.57</td>\n",
              "    </tr>\n",
              "  </tbody>\n",
              "</table>\n",
              "</div>"
            ],
            "text/plain": [
              "                Provinsi     SD    SMP    SMA     PT\n",
              "0                   ACEH  99.85  98.09  82.15  34.28\n",
              "1         SUMATERA UTARA  99.49  96.60  76.76  26.80\n",
              "2         SUMATERA BARAT  99.50  96.29  82.86  35.45\n",
              "3                   RIAU  98.98  94.73  76.52  27.28\n",
              "4                  JAMBI  99.59  95.89  71.54  24.12\n",
              "5       SUMATERA SELATAN  99.63  94.01  69.05  19.17\n",
              "6               BENGKULU  99.80  97.20  79.07  29.90\n",
              "7                LAMPUNG  99.78  94.76  70.03  20.96\n",
              "8   KEP. BANGKA BELITUNG  99.64  92.41  66.99  14.99\n",
              "9              KEP. RIAU  99.32  99.08  82.80  19.13\n",
              "10           DKI JAKARTA  99.67  97.64  71.50  24.60\n",
              "11            JAWA BARAT  99.51  93.77  66.62  21.50\n",
              "12           JAWA TENGAH  99.62  95.48  68.48  22.13\n",
              "13         DI YOGYAKARTA  99.87  99.63  87.61  51.33\n",
              "14            JAWA TIMUR  99.57  96.77  71.51  23.34\n",
              "15                BANTEN  99.31  95.67  67.77  21.33\n",
              "16                  BALI  99.44  97.72  82.16  26.56\n",
              "17   NUSA TENGGARA BARAT  99.43  97.69  76.61  28.52\n",
              "18   NUSA TENGGARA TIMUR  98.27  94.76  74.65  27.80\n",
              "19      KALIMANTAN BARAT  98.44  92.51  67.53  25.80\n",
              "20     KALIMANTAN TENGAH  99.50  93.37  66.62  24.15\n",
              "21    KALIMANTAN SELATAN  99.55  92.33  68.30  23.53\n",
              "22      KALIMANTAN TIMUR  99.67  98.79  81.32  30.04\n",
              "23      KALIMANTAN UTARA  98.34  96.04  75.12  20.72\n",
              "24        SULAWESI UTARA  99.37  94.91  73.04  24.22\n",
              "25       SULAWESI TENGAH  98.15  92.41  74.87  26.31\n",
              "26      SULAWESI SELATAN  99.16  93.09  70.60  32.16\n",
              "27     SULAWESI TENGGARA  99.32  94.08  72.94  30.03\n",
              "28             GORONTALO  98.76  91.23  69.86  29.21\n",
              "29        SULAWESI BARAT  98.10  89.88  68.03  23.49\n",
              "30                MALUKU  99.72  96.86  79.08  38.20\n",
              "31          MALUKU UTARA  99.19  97.24  76.06  32.10\n",
              "32           PAPUA BARAT  97.27  96.92  80.60  31.92\n",
              "33                 PAPUA  81.80  79.09  63.35  24.57"
            ]
          },
          "metadata": {
            "tags": []
          },
          "execution_count": 4
        }
      ]
    },
    {
      "cell_type": "code",
      "metadata": {
        "colab": {
          "base_uri": "https://localhost:8080/",
          "height": 204
        },
        "id": "ibbSA2tAVYf3",
        "outputId": "d5549db5-bc2c-40ef-a390-0914836864a7"
      },
      "source": [
        "dataset.head()"
      ],
      "execution_count": 5,
      "outputs": [
        {
          "output_type": "execute_result",
          "data": {
            "text/html": [
              "<div>\n",
              "<style scoped>\n",
              "    .dataframe tbody tr th:only-of-type {\n",
              "        vertical-align: middle;\n",
              "    }\n",
              "\n",
              "    .dataframe tbody tr th {\n",
              "        vertical-align: top;\n",
              "    }\n",
              "\n",
              "    .dataframe thead th {\n",
              "        text-align: right;\n",
              "    }\n",
              "</style>\n",
              "<table border=\"1\" class=\"dataframe\">\n",
              "  <thead>\n",
              "    <tr style=\"text-align: right;\">\n",
              "      <th></th>\n",
              "      <th>Provinsi</th>\n",
              "      <th>SD</th>\n",
              "      <th>SMP</th>\n",
              "      <th>SMA</th>\n",
              "      <th>PT</th>\n",
              "    </tr>\n",
              "  </thead>\n",
              "  <tbody>\n",
              "    <tr>\n",
              "      <th>0</th>\n",
              "      <td>ACEH</td>\n",
              "      <td>99.85</td>\n",
              "      <td>98.09</td>\n",
              "      <td>82.15</td>\n",
              "      <td>34.28</td>\n",
              "    </tr>\n",
              "    <tr>\n",
              "      <th>1</th>\n",
              "      <td>SUMATERA UTARA</td>\n",
              "      <td>99.49</td>\n",
              "      <td>96.60</td>\n",
              "      <td>76.76</td>\n",
              "      <td>26.80</td>\n",
              "    </tr>\n",
              "    <tr>\n",
              "      <th>2</th>\n",
              "      <td>SUMATERA BARAT</td>\n",
              "      <td>99.50</td>\n",
              "      <td>96.29</td>\n",
              "      <td>82.86</td>\n",
              "      <td>35.45</td>\n",
              "    </tr>\n",
              "    <tr>\n",
              "      <th>3</th>\n",
              "      <td>RIAU</td>\n",
              "      <td>98.98</td>\n",
              "      <td>94.73</td>\n",
              "      <td>76.52</td>\n",
              "      <td>27.28</td>\n",
              "    </tr>\n",
              "    <tr>\n",
              "      <th>4</th>\n",
              "      <td>JAMBI</td>\n",
              "      <td>99.59</td>\n",
              "      <td>95.89</td>\n",
              "      <td>71.54</td>\n",
              "      <td>24.12</td>\n",
              "    </tr>\n",
              "  </tbody>\n",
              "</table>\n",
              "</div>"
            ],
            "text/plain": [
              "         Provinsi     SD    SMP    SMA     PT\n",
              "0            ACEH  99.85  98.09  82.15  34.28\n",
              "1  SUMATERA UTARA  99.49  96.60  76.76  26.80\n",
              "2  SUMATERA BARAT  99.50  96.29  82.86  35.45\n",
              "3            RIAU  98.98  94.73  76.52  27.28\n",
              "4           JAMBI  99.59  95.89  71.54  24.12"
            ]
          },
          "metadata": {
            "tags": []
          },
          "execution_count": 5
        }
      ]
    },
    {
      "cell_type": "code",
      "metadata": {
        "id": "r069d8oZVfNF"
      },
      "source": [
        "import matplotlib.pyplot as plt\n",
        "%matplotlib inline"
      ],
      "execution_count": 6,
      "outputs": []
    },
    {
      "cell_type": "code",
      "metadata": {
        "colab": {
          "base_uri": "https://localhost:8080/",
          "height": 282
        },
        "id": "0gu6gzlcVmBY",
        "outputId": "53a5cafe-debc-4336-f6ff-439689a719b4"
      },
      "source": [
        "plt.scatter(dataset ['Provinsi'],dataset['SD'])"
      ],
      "execution_count": 7,
      "outputs": [
        {
          "output_type": "execute_result",
          "data": {
            "text/plain": [
              "<matplotlib.collections.PathCollection at 0x7fe2809b1908>"
            ]
          },
          "metadata": {
            "tags": []
          },
          "execution_count": 7
        },
        {
          "output_type": "display_data",
          "data": {
            "image/png": "[encoded data removed]",
            "text/plain": [
              "<Figure size 432x288 with 1 Axes>"
            ]
          },
          "metadata": {
            "tags": [],
            "needs_background": "light"
          }
        }
      ]
    },
    {
      "cell_type": "code",
      "metadata": {
        "id": "HRdFFRo4V2g6"
      },
      "source": [
        "X=dataset[['Provinsi','SD']]\n",
        "Y=dataset['SMP']"
      ],
      "execution_count": 8,
      "outputs": []
    },
    {
      "cell_type": "code",
      "metadata": {
        "colab": {
          "base_uri": "https://localhost:8080/",
          "height": 1000
        },
        "id": "F2_1p7qgWLXa",
        "outputId": "73ca19b0-ca6b-4eb8-f82b-7b5b27d105a2"
      },
      "source": [
        "X"
      ],
      "execution_count": 9,
      "outputs": [
        {
          "output_type": "execute_result",
          "data": {
            "text/html": [
              "<div>\n",
              "<style scoped>\n",
              "    .dataframe tbody tr th:only-of-type {\n",
              "        vertical-align: middle;\n",
              "    }\n",
              "\n",
              "    .dataframe tbody tr th {\n",
              "        vertical-align: top;\n",
              "    }\n",
              "\n",
              "    .dataframe thead th {\n",
              "        text-align: right;\n",
              "    }\n",
              "</style>\n",
              "<table border=\"1\" class=\"dataframe\">\n",
              "  <thead>\n",
              "    <tr style=\"text-align: right;\">\n",
              "      <th></th>\n",
              "      <th>Provinsi</th>\n",
              "      <th>SD</th>\n",
              "    </tr>\n",
              "  </thead>\n",
              "  <tbody>\n",
              "    <tr>\n",
              "      <th>0</th>\n",
              "      <td>ACEH</td>\n",
              "      <td>99.85</td>\n",
              "    </tr>\n",
              "    <tr>\n",
              "      <th>1</th>\n",
              "      <td>SUMATERA UTARA</td>\n",
              "      <td>99.49</td>\n",
              "    </tr>\n",
              "    <tr>\n",
              "      <th>2</th>\n",
              "      <td>SUMATERA BARAT</td>\n",
              "      <td>99.50</td>\n",
              "    </tr>\n",
              "    <tr>\n",
              "      <th>3</th>\n",
              "      <td>RIAU</td>\n",
              "      <td>98.98</td>\n",
              "    </tr>\n",
              "    <tr>\n",
              "      <th>4</th>\n",
              "      <td>JAMBI</td>\n",
              "      <td>99.59</td>\n",
              "    </tr>\n",
              "    <tr>\n",
              "      <th>5</th>\n",
              "      <td>SUMATERA SELATAN</td>\n",
              "      <td>99.63</td>\n",
              "    </tr>\n",
              "    <tr>\n",
              "      <th>6</th>\n",
              "      <td>BENGKULU</td>\n",
              "      <td>99.80</td>\n",
              "    </tr>\n",
              "    <tr>\n",
              "      <th>7</th>\n",
              "      <td>LAMPUNG</td>\n",
              "      <td>99.78</td>\n",
              "    </tr>\n",
              "    <tr>\n",
              "      <th>8</th>\n",
              "      <td>KEP. BANGKA BELITUNG</td>\n",
              "      <td>99.64</td>\n",
              "    </tr>\n",
              "    <tr>\n",
              "      <th>9</th>\n",
              "      <td>KEP. RIAU</td>\n",
              "      <td>99.32</td>\n",
              "    </tr>\n",
              "    <tr>\n",
              "      <th>10</th>\n",
              "      <td>DKI JAKARTA</td>\n",
              "      <td>99.67</td>\n",
              "    </tr>\n",
              "    <tr>\n",
              "      <th>11</th>\n",
              "      <td>JAWA BARAT</td>\n",
              "      <td>99.51</td>\n",
              "    </tr>\n",
              "    <tr>\n",
              "      <th>12</th>\n",
              "      <td>JAWA TENGAH</td>\n",
              "      <td>99.62</td>\n",
              "    </tr>\n",
              "    <tr>\n",
              "      <th>13</th>\n",
              "      <td>DI YOGYAKARTA</td>\n",
              "      <td>99.87</td>\n",
              "    </tr>\n",
              "    <tr>\n",
              "      <th>14</th>\n",
              "      <td>JAWA TIMUR</td>\n",
              "      <td>99.57</td>\n",
              "    </tr>\n",
              "    <tr>\n",
              "      <th>15</th>\n",
              "      <td>BANTEN</td>\n",
              "      <td>99.31</td>\n",
              "    </tr>\n",
              "    <tr>\n",
              "      <th>16</th>\n",
              "      <td>BALI</td>\n",
              "      <td>99.44</td>\n",
              "    </tr>\n",
              "    <tr>\n",
              "      <th>17</th>\n",
              "      <td>NUSA TENGGARA BARAT</td>\n",
              "      <td>99.43</td>\n",
              "    </tr>\n",
              "    <tr>\n",
              "      <th>18</th>\n",
              "      <td>NUSA TENGGARA TIMUR</td>\n",
              "      <td>98.27</td>\n",
              "    </tr>\n",
              "    <tr>\n",
              "      <th>19</th>\n",
              "      <td>KALIMANTAN BARAT</td>\n",
              "      <td>98.44</td>\n",
              "    </tr>\n",
              "    <tr>\n",
              "      <th>20</th>\n",
              "      <td>KALIMANTAN TENGAH</td>\n",
              "      <td>99.50</td>\n",
              "    </tr>\n",
              "    <tr>\n",
              "      <th>21</th>\n",
              "      <td>KALIMANTAN SELATAN</td>\n",
              "      <td>99.55</td>\n",
              "    </tr>\n",
              "    <tr>\n",
              "      <th>22</th>\n",
              "      <td>KALIMANTAN TIMUR</td>\n",
              "      <td>99.67</td>\n",
              "    </tr>\n",
              "    <tr>\n",
              "      <th>23</th>\n",
              "      <td>KALIMANTAN UTARA</td>\n",
              "      <td>98.34</td>\n",
              "    </tr>\n",
              "    <tr>\n",
              "      <th>24</th>\n",
              "      <td>SULAWESI UTARA</td>\n",
              "      <td>99.37</td>\n",
              "    </tr>\n",
              "    <tr>\n",
              "      <th>25</th>\n",
              "      <td>SULAWESI TENGAH</td>\n",
              "      <td>98.15</td>\n",
              "    </tr>\n",
              "    <tr>\n",
              "      <th>26</th>\n",
              "      <td>SULAWESI SELATAN</td>\n",
              "      <td>99.16</td>\n",
              "    </tr>\n",
              "    <tr>\n",
              "      <th>27</th>\n",
              "      <td>SULAWESI TENGGARA</td>\n",
              "      <td>99.32</td>\n",
              "    </tr>\n",
              "    <tr>\n",
              "      <th>28</th>\n",
              "      <td>GORONTALO</td>\n",
              "      <td>98.76</td>\n",
              "    </tr>\n",
              "    <tr>\n",
              "      <th>29</th>\n",
              "      <td>SULAWESI BARAT</td>\n",
              "      <td>98.10</td>\n",
              "    </tr>\n",
              "    <tr>\n",
              "      <th>30</th>\n",
              "      <td>MALUKU</td>\n",
              "      <td>99.72</td>\n",
              "    </tr>\n",
              "    <tr>\n",
              "      <th>31</th>\n",
              "      <td>MALUKU UTARA</td>\n",
              "      <td>99.19</td>\n",
              "    </tr>\n",
              "    <tr>\n",
              "      <th>32</th>\n",
              "      <td>PAPUA BARAT</td>\n",
              "      <td>97.27</td>\n",
              "    </tr>\n",
              "    <tr>\n",
              "      <th>33</th>\n",
              "      <td>PAPUA</td>\n",
              "      <td>81.80</td>\n",
              "    </tr>\n",
              "  </tbody>\n",
              "</table>\n",
              "</div>"
            ],
            "text/plain": [
              "                Provinsi     SD\n",
              "0                   ACEH  99.85\n",
              "1         SUMATERA UTARA  99.49\n",
              "2         SUMATERA BARAT  99.50\n",
              "3                   RIAU  98.98\n",
              "4                  JAMBI  99.59\n",
              "5       SUMATERA SELATAN  99.63\n",
              "6               BENGKULU  99.80\n",
              "7                LAMPUNG  99.78\n",
              "8   KEP. BANGKA BELITUNG  99.64\n",
              "9              KEP. RIAU  99.32\n",
              "10           DKI JAKARTA  99.67\n",
              "11            JAWA BARAT  99.51\n",
              "12           JAWA TENGAH  99.62\n",
              "13         DI YOGYAKARTA  99.87\n",
              "14            JAWA TIMUR  99.57\n",
              "15                BANTEN  99.31\n",
              "16                  BALI  99.44\n",
              "17   NUSA TENGGARA BARAT  99.43\n",
              "18   NUSA TENGGARA TIMUR  98.27\n",
              "19      KALIMANTAN BARAT  98.44\n",
              "20     KALIMANTAN TENGAH  99.50\n",
              "21    KALIMANTAN SELATAN  99.55\n",
              "22      KALIMANTAN TIMUR  99.67\n",
              "23      KALIMANTAN UTARA  98.34\n",
              "24        SULAWESI UTARA  99.37\n",
              "25       SULAWESI TENGAH  98.15\n",
              "26      SULAWESI SELATAN  99.16\n",
              "27     SULAWESI TENGGARA  99.32\n",
              "28             GORONTALO  98.76\n",
              "29        SULAWESI BARAT  98.10\n",
              "30                MALUKU  99.72\n",
              "31          MALUKU UTARA  99.19\n",
              "32           PAPUA BARAT  97.27\n",
              "33                 PAPUA  81.80"
            ]
          },
          "metadata": {
            "tags": []
          },
          "execution_count": 9
        }
      ]
    },
    {
      "cell_type": "code",
      "metadata": {
        "colab": {
          "base_uri": "https://localhost:8080/"
        },
        "id": "f1ZCA0PgWOLE",
        "outputId": "6c7c71f5-40c5-49f3-894b-ab1697a87013"
      },
      "source": [
        "Y"
      ],
      "execution_count": 10,
      "outputs": [
        {
          "output_type": "execute_result",
          "data": {
            "text/plain": [
              "0     98.09\n",
              "1     96.60\n",
              "2     96.29\n",
              "3     94.73\n",
              "4     95.89\n",
              "5     94.01\n",
              "6     97.20\n",
              "7     94.76\n",
              "8     92.41\n",
              "9     99.08\n",
              "10    97.64\n",
              "11    93.77\n",
              "12    95.48\n",
              "13    99.63\n",
              "14    96.77\n",
              "15    95.67\n",
              "16    97.72\n",
              "17    97.69\n",
              "18    94.76\n",
              "19    92.51\n",
              "20    93.37\n",
              "21    92.33\n",
              "22    98.79\n",
              "23    96.04\n",
              "24    94.91\n",
              "25    92.41\n",
              "26    93.09\n",
              "27    94.08\n",
              "28    91.23\n",
              "29    89.88\n",
              "30    96.86\n",
              "31    97.24\n",
              "32    96.92\n",
              "33    79.09\n",
              "Name: SMP, dtype: float64"
            ]
          },
          "metadata": {
            "tags": []
          },
          "execution_count": 10
        }
      ]
    },
    {
      "cell_type": "code",
      "metadata": {
        "id": "nDru6jlxWSt1"
      },
      "source": [
        "from sklearn.model_selection import train_test_split"
      ],
      "execution_count": 11,
      "outputs": []
    },
    {
      "cell_type": "code",
      "metadata": {
        "id": "u40XrvpBWZzz"
      },
      "source": [
        "X_train,X_test,Y_train,Y_test=train_test_split(X,Y,test_size=0.3)"
      ],
      "execution_count": 12,
      "outputs": []
    },
    {
      "cell_type": "code",
      "metadata": {
        "colab": {
          "base_uri": "https://localhost:8080/"
        },
        "id": "MkCph2tcWi1A",
        "outputId": "72c5f551-cfc9-4b2e-e44f-0cab27f4b73e"
      },
      "source": [
        "len (X_train)"
      ],
      "execution_count": 13,
      "outputs": [
        {
          "output_type": "execute_result",
          "data": {
            "text/plain": [
              "23"
            ]
          },
          "metadata": {
            "tags": []
          },
          "execution_count": 13
        }
      ]
    },
    {
      "cell_type": "code",
      "metadata": {
        "colab": {
          "base_uri": "https://localhost:8080/"
        },
        "id": "E36iSYlDWobE",
        "outputId": "0b678e48-b24b-4b93-c984-f6d11e34e658"
      },
      "source": [
        "len (X_test)"
      ],
      "execution_count": 14,
      "outputs": [
        {
          "output_type": "execute_result",
          "data": {
            "text/plain": [
              "11"
            ]
          },
          "metadata": {
            "tags": []
          },
          "execution_count": 14
        }
      ]
    },
    {
      "cell_type": "code",
      "metadata": {
        "colab": {
          "base_uri": "https://localhost:8080/",
          "height": 762
        },
        "id": "jDQO0Wm5Wy9G",
        "outputId": "3454d858-d7e3-4dbe-fea9-6f1693951f0b"
      },
      "source": [
        "X_train"
      ],
      "execution_count": 15,
      "outputs": [
        {
          "output_type": "execute_result",
          "data": {
            "text/html": [
              "<div>\n",
              "<style scoped>\n",
              "    .dataframe tbody tr th:only-of-type {\n",
              "        vertical-align: middle;\n",
              "    }\n",
              "\n",
              "    .dataframe tbody tr th {\n",
              "        vertical-align: top;\n",
              "    }\n",
              "\n",
              "    .dataframe thead th {\n",
              "        text-align: right;\n",
              "    }\n",
              "</style>\n",
              "<table border=\"1\" class=\"dataframe\">\n",
              "  <thead>\n",
              "    <tr style=\"text-align: right;\">\n",
              "      <th></th>\n",
              "      <th>Provinsi</th>\n",
              "      <th>SD</th>\n",
              "    </tr>\n",
              "  </thead>\n",
              "  <tbody>\n",
              "    <tr>\n",
              "      <th>33</th>\n",
              "      <td>PAPUA</td>\n",
              "      <td>81.80</td>\n",
              "    </tr>\n",
              "    <tr>\n",
              "      <th>24</th>\n",
              "      <td>SULAWESI UTARA</td>\n",
              "      <td>99.37</td>\n",
              "    </tr>\n",
              "    <tr>\n",
              "      <th>1</th>\n",
              "      <td>SUMATERA UTARA</td>\n",
              "      <td>99.49</td>\n",
              "    </tr>\n",
              "    <tr>\n",
              "      <th>21</th>\n",
              "      <td>KALIMANTAN SELATAN</td>\n",
              "      <td>99.55</td>\n",
              "    </tr>\n",
              "    <tr>\n",
              "      <th>31</th>\n",
              "      <td>MALUKU UTARA</td>\n",
              "      <td>99.19</td>\n",
              "    </tr>\n",
              "    <tr>\n",
              "      <th>12</th>\n",
              "      <td>JAWA TENGAH</td>\n",
              "      <td>99.62</td>\n",
              "    </tr>\n",
              "    <tr>\n",
              "      <th>11</th>\n",
              "      <td>JAWA BARAT</td>\n",
              "      <td>99.51</td>\n",
              "    </tr>\n",
              "    <tr>\n",
              "      <th>30</th>\n",
              "      <td>MALUKU</td>\n",
              "      <td>99.72</td>\n",
              "    </tr>\n",
              "    <tr>\n",
              "      <th>29</th>\n",
              "      <td>SULAWESI BARAT</td>\n",
              "      <td>98.10</td>\n",
              "    </tr>\n",
              "    <tr>\n",
              "      <th>16</th>\n",
              "      <td>BALI</td>\n",
              "      <td>99.44</td>\n",
              "    </tr>\n",
              "    <tr>\n",
              "      <th>17</th>\n",
              "      <td>NUSA TENGGARA BARAT</td>\n",
              "      <td>99.43</td>\n",
              "    </tr>\n",
              "    <tr>\n",
              "      <th>10</th>\n",
              "      <td>DKI JAKARTA</td>\n",
              "      <td>99.67</td>\n",
              "    </tr>\n",
              "    <tr>\n",
              "      <th>0</th>\n",
              "      <td>ACEH</td>\n",
              "      <td>99.85</td>\n",
              "    </tr>\n",
              "    <tr>\n",
              "      <th>32</th>\n",
              "      <td>PAPUA BARAT</td>\n",
              "      <td>97.27</td>\n",
              "    </tr>\n",
              "    <tr>\n",
              "      <th>23</th>\n",
              "      <td>KALIMANTAN UTARA</td>\n",
              "      <td>98.34</td>\n",
              "    </tr>\n",
              "    <tr>\n",
              "      <th>27</th>\n",
              "      <td>SULAWESI TENGGARA</td>\n",
              "      <td>99.32</td>\n",
              "    </tr>\n",
              "    <tr>\n",
              "      <th>5</th>\n",
              "      <td>SUMATERA SELATAN</td>\n",
              "      <td>99.63</td>\n",
              "    </tr>\n",
              "    <tr>\n",
              "      <th>2</th>\n",
              "      <td>SUMATERA BARAT</td>\n",
              "      <td>99.50</td>\n",
              "    </tr>\n",
              "    <tr>\n",
              "      <th>13</th>\n",
              "      <td>DI YOGYAKARTA</td>\n",
              "      <td>99.87</td>\n",
              "    </tr>\n",
              "    <tr>\n",
              "      <th>7</th>\n",
              "      <td>LAMPUNG</td>\n",
              "      <td>99.78</td>\n",
              "    </tr>\n",
              "    <tr>\n",
              "      <th>18</th>\n",
              "      <td>NUSA TENGGARA TIMUR</td>\n",
              "      <td>98.27</td>\n",
              "    </tr>\n",
              "    <tr>\n",
              "      <th>14</th>\n",
              "      <td>JAWA TIMUR</td>\n",
              "      <td>99.57</td>\n",
              "    </tr>\n",
              "    <tr>\n",
              "      <th>20</th>\n",
              "      <td>KALIMANTAN TENGAH</td>\n",
              "      <td>99.50</td>\n",
              "    </tr>\n",
              "  </tbody>\n",
              "</table>\n",
              "</div>"
            ],
            "text/plain": [
              "               Provinsi     SD\n",
              "33                PAPUA  81.80\n",
              "24       SULAWESI UTARA  99.37\n",
              "1        SUMATERA UTARA  99.49\n",
              "21   KALIMANTAN SELATAN  99.55\n",
              "31         MALUKU UTARA  99.19\n",
              "12          JAWA TENGAH  99.62\n",
              "11           JAWA BARAT  99.51\n",
              "30               MALUKU  99.72\n",
              "29       SULAWESI BARAT  98.10\n",
              "16                 BALI  99.44\n",
              "17  NUSA TENGGARA BARAT  99.43\n",
              "10          DKI JAKARTA  99.67\n",
              "0                  ACEH  99.85\n",
              "32          PAPUA BARAT  97.27\n",
              "23     KALIMANTAN UTARA  98.34\n",
              "27    SULAWESI TENGGARA  99.32\n",
              "5      SUMATERA SELATAN  99.63\n",
              "2        SUMATERA BARAT  99.50\n",
              "13        DI YOGYAKARTA  99.87\n",
              "7               LAMPUNG  99.78\n",
              "18  NUSA TENGGARA TIMUR  98.27\n",
              "14           JAWA TIMUR  99.57\n",
              "20    KALIMANTAN TENGAH  99.50"
            ]
          },
          "metadata": {
            "tags": []
          },
          "execution_count": 15
        }
      ]
    },
    {
      "cell_type": "code",
      "metadata": {
        "colab": {
          "base_uri": "https://localhost:8080/",
          "height": 390
        },
        "id": "xXah6tnFW69h",
        "outputId": "d796ff29-2542-410f-b4d5-562cf12993d8"
      },
      "source": [
        "X_test"
      ],
      "execution_count": 16,
      "outputs": [
        {
          "output_type": "execute_result",
          "data": {
            "text/html": [
              "<div>\n",
              "<style scoped>\n",
              "    .dataframe tbody tr th:only-of-type {\n",
              "        vertical-align: middle;\n",
              "    }\n",
              "\n",
              "    .dataframe tbody tr th {\n",
              "        vertical-align: top;\n",
              "    }\n",
              "\n",
              "    .dataframe thead th {\n",
              "        text-align: right;\n",
              "    }\n",
              "</style>\n",
              "<table border=\"1\" class=\"dataframe\">\n",
              "  <thead>\n",
              "    <tr style=\"text-align: right;\">\n",
              "      <th></th>\n",
              "      <th>Provinsi</th>\n",
              "      <th>SD</th>\n",
              "    </tr>\n",
              "  </thead>\n",
              "  <tbody>\n",
              "    <tr>\n",
              "      <th>9</th>\n",
              "      <td>KEP. RIAU</td>\n",
              "      <td>99.32</td>\n",
              "    </tr>\n",
              "    <tr>\n",
              "      <th>22</th>\n",
              "      <td>KALIMANTAN TIMUR</td>\n",
              "      <td>99.67</td>\n",
              "    </tr>\n",
              "    <tr>\n",
              "      <th>6</th>\n",
              "      <td>BENGKULU</td>\n",
              "      <td>99.80</td>\n",
              "    </tr>\n",
              "    <tr>\n",
              "      <th>28</th>\n",
              "      <td>GORONTALO</td>\n",
              "      <td>98.76</td>\n",
              "    </tr>\n",
              "    <tr>\n",
              "      <th>15</th>\n",
              "      <td>BANTEN</td>\n",
              "      <td>99.31</td>\n",
              "    </tr>\n",
              "    <tr>\n",
              "      <th>19</th>\n",
              "      <td>KALIMANTAN BARAT</td>\n",
              "      <td>98.44</td>\n",
              "    </tr>\n",
              "    <tr>\n",
              "      <th>26</th>\n",
              "      <td>SULAWESI SELATAN</td>\n",
              "      <td>99.16</td>\n",
              "    </tr>\n",
              "    <tr>\n",
              "      <th>4</th>\n",
              "      <td>JAMBI</td>\n",
              "      <td>99.59</td>\n",
              "    </tr>\n",
              "    <tr>\n",
              "      <th>8</th>\n",
              "      <td>KEP. BANGKA BELITUNG</td>\n",
              "      <td>99.64</td>\n",
              "    </tr>\n",
              "    <tr>\n",
              "      <th>25</th>\n",
              "      <td>SULAWESI TENGAH</td>\n",
              "      <td>98.15</td>\n",
              "    </tr>\n",
              "    <tr>\n",
              "      <th>3</th>\n",
              "      <td>RIAU</td>\n",
              "      <td>98.98</td>\n",
              "    </tr>\n",
              "  </tbody>\n",
              "</table>\n",
              "</div>"
            ],
            "text/plain": [
              "                Provinsi     SD\n",
              "9              KEP. RIAU  99.32\n",
              "22      KALIMANTAN TIMUR  99.67\n",
              "6               BENGKULU  99.80\n",
              "28             GORONTALO  98.76\n",
              "15                BANTEN  99.31\n",
              "19      KALIMANTAN BARAT  98.44\n",
              "26      SULAWESI SELATAN  99.16\n",
              "4                  JAMBI  99.59\n",
              "8   KEP. BANGKA BELITUNG  99.64\n",
              "25       SULAWESI TENGAH  98.15\n",
              "3                   RIAU  98.98"
            ]
          },
          "metadata": {
            "tags": []
          },
          "execution_count": 16
        }
      ]
    },
    {
      "cell_type": "code",
      "metadata": {
        "colab": {
          "base_uri": "https://localhost:8080/"
        },
        "id": "5zh0i36GXD43",
        "outputId": "3e04872a-75e4-42bb-fb0d-657e5b21b319"
      },
      "source": [
        "Y_train"
      ],
      "execution_count": 17,
      "outputs": [
        {
          "output_type": "execute_result",
          "data": {
            "text/plain": [
              "33    79.09\n",
              "24    94.91\n",
              "1     96.60\n",
              "21    92.33\n",
              "31    97.24\n",
              "12    95.48\n",
              "11    93.77\n",
              "30    96.86\n",
              "29    89.88\n",
              "16    97.72\n",
              "17    97.69\n",
              "10    97.64\n",
              "0     98.09\n",
              "32    96.92\n",
              "23    96.04\n",
              "27    94.08\n",
              "5     94.01\n",
              "2     96.29\n",
              "13    99.63\n",
              "7     94.76\n",
              "18    94.76\n",
              "14    96.77\n",
              "20    93.37\n",
              "Name: SMP, dtype: float64"
            ]
          },
          "metadata": {
            "tags": []
          },
          "execution_count": 17
        }
      ]
    },
    {
      "cell_type": "code",
      "metadata": {
        "colab": {
          "base_uri": "https://localhost:8080/"
        },
        "id": "DFsxvRkIXJde",
        "outputId": "6230cb0e-4610-42d2-acc2-945f1aaa920e"
      },
      "source": [
        "Y_test"
      ],
      "execution_count": 18,
      "outputs": [
        {
          "output_type": "execute_result",
          "data": {
            "text/plain": [
              "9     99.08\n",
              "22    98.79\n",
              "6     97.20\n",
              "28    91.23\n",
              "15    95.67\n",
              "19    92.51\n",
              "26    93.09\n",
              "4     95.89\n",
              "8     92.41\n",
              "25    92.41\n",
              "3     94.73\n",
              "Name: SMP, dtype: float64"
            ]
          },
          "metadata": {
            "tags": []
          },
          "execution_count": 18
        }
      ]
    },
    {
      "cell_type": "code",
      "metadata": {
        "id": "DaBa2YXnXPi6"
      },
      "source": [
        "X_train,X_test,Y_train,Y_test=train_test_split(X,Y,test_size=0.2)"
      ],
      "execution_count": 19,
      "outputs": []
    },
    {
      "cell_type": "code",
      "metadata": {
        "colab": {
          "base_uri": "https://localhost:8080/"
        },
        "id": "-7TFfEesXUPE",
        "outputId": "d3ed8f77-6a08-490d-8ed1-864726575fd0"
      },
      "source": [
        "len (X_train)"
      ],
      "execution_count": 20,
      "outputs": [
        {
          "output_type": "execute_result",
          "data": {
            "text/plain": [
              "27"
            ]
          },
          "metadata": {
            "tags": []
          },
          "execution_count": 20
        }
      ]
    },
    {
      "cell_type": "code",
      "metadata": {
        "colab": {
          "base_uri": "https://localhost:8080/"
        },
        "id": "IU64fw3fXZwD",
        "outputId": "c14d65d4-faf0-4339-e414-ebc4f74dba5c"
      },
      "source": [
        "len (X_test)"
      ],
      "execution_count": 21,
      "outputs": [
        {
          "output_type": "execute_result",
          "data": {
            "text/plain": [
              "7"
            ]
          },
          "metadata": {
            "tags": []
          },
          "execution_count": 21
        }
      ]
    },
    {
      "cell_type": "code",
      "metadata": {
        "colab": {
          "base_uri": "https://localhost:8080/",
          "height": 886
        },
        "id": "iGSCfmO6Xezg",
        "outputId": "e93f1f1b-2cad-4db9-a52f-5c5439746909"
      },
      "source": [
        "X_train"
      ],
      "execution_count": 22,
      "outputs": [
        {
          "output_type": "execute_result",
          "data": {
            "text/html": [
              "<div>\n",
              "<style scoped>\n",
              "    .dataframe tbody tr th:only-of-type {\n",
              "        vertical-align: middle;\n",
              "    }\n",
              "\n",
              "    .dataframe tbody tr th {\n",
              "        vertical-align: top;\n",
              "    }\n",
              "\n",
              "    .dataframe thead th {\n",
              "        text-align: right;\n",
              "    }\n",
              "</style>\n",
              "<table border=\"1\" class=\"dataframe\">\n",
              "  <thead>\n",
              "    <tr style=\"text-align: right;\">\n",
              "      <th></th>\n",
              "      <th>Provinsi</th>\n",
              "      <th>SD</th>\n",
              "    </tr>\n",
              "  </thead>\n",
              "  <tbody>\n",
              "    <tr>\n",
              "      <th>18</th>\n",
              "      <td>NUSA TENGGARA TIMUR</td>\n",
              "      <td>98.27</td>\n",
              "    </tr>\n",
              "    <tr>\n",
              "      <th>15</th>\n",
              "      <td>BANTEN</td>\n",
              "      <td>99.31</td>\n",
              "    </tr>\n",
              "    <tr>\n",
              "      <th>21</th>\n",
              "      <td>KALIMANTAN SELATAN</td>\n",
              "      <td>99.55</td>\n",
              "    </tr>\n",
              "    <tr>\n",
              "      <th>12</th>\n",
              "      <td>JAWA TENGAH</td>\n",
              "      <td>99.62</td>\n",
              "    </tr>\n",
              "    <tr>\n",
              "      <th>31</th>\n",
              "      <td>MALUKU UTARA</td>\n",
              "      <td>99.19</td>\n",
              "    </tr>\n",
              "    <tr>\n",
              "      <th>32</th>\n",
              "      <td>PAPUA BARAT</td>\n",
              "      <td>97.27</td>\n",
              "    </tr>\n",
              "    <tr>\n",
              "      <th>9</th>\n",
              "      <td>KEP. RIAU</td>\n",
              "      <td>99.32</td>\n",
              "    </tr>\n",
              "    <tr>\n",
              "      <th>13</th>\n",
              "      <td>DI YOGYAKARTA</td>\n",
              "      <td>99.87</td>\n",
              "    </tr>\n",
              "    <tr>\n",
              "      <th>26</th>\n",
              "      <td>SULAWESI SELATAN</td>\n",
              "      <td>99.16</td>\n",
              "    </tr>\n",
              "    <tr>\n",
              "      <th>6</th>\n",
              "      <td>BENGKULU</td>\n",
              "      <td>99.80</td>\n",
              "    </tr>\n",
              "    <tr>\n",
              "      <th>7</th>\n",
              "      <td>LAMPUNG</td>\n",
              "      <td>99.78</td>\n",
              "    </tr>\n",
              "    <tr>\n",
              "      <th>25</th>\n",
              "      <td>SULAWESI TENGAH</td>\n",
              "      <td>98.15</td>\n",
              "    </tr>\n",
              "    <tr>\n",
              "      <th>16</th>\n",
              "      <td>BALI</td>\n",
              "      <td>99.44</td>\n",
              "    </tr>\n",
              "    <tr>\n",
              "      <th>10</th>\n",
              "      <td>DKI JAKARTA</td>\n",
              "      <td>99.67</td>\n",
              "    </tr>\n",
              "    <tr>\n",
              "      <th>11</th>\n",
              "      <td>JAWA BARAT</td>\n",
              "      <td>99.51</td>\n",
              "    </tr>\n",
              "    <tr>\n",
              "      <th>17</th>\n",
              "      <td>NUSA TENGGARA BARAT</td>\n",
              "      <td>99.43</td>\n",
              "    </tr>\n",
              "    <tr>\n",
              "      <th>1</th>\n",
              "      <td>SUMATERA UTARA</td>\n",
              "      <td>99.49</td>\n",
              "    </tr>\n",
              "    <tr>\n",
              "      <th>20</th>\n",
              "      <td>KALIMANTAN TENGAH</td>\n",
              "      <td>99.50</td>\n",
              "    </tr>\n",
              "    <tr>\n",
              "      <th>29</th>\n",
              "      <td>SULAWESI BARAT</td>\n",
              "      <td>98.10</td>\n",
              "    </tr>\n",
              "    <tr>\n",
              "      <th>27</th>\n",
              "      <td>SULAWESI TENGGARA</td>\n",
              "      <td>99.32</td>\n",
              "    </tr>\n",
              "    <tr>\n",
              "      <th>19</th>\n",
              "      <td>KALIMANTAN BARAT</td>\n",
              "      <td>98.44</td>\n",
              "    </tr>\n",
              "    <tr>\n",
              "      <th>0</th>\n",
              "      <td>ACEH</td>\n",
              "      <td>99.85</td>\n",
              "    </tr>\n",
              "    <tr>\n",
              "      <th>23</th>\n",
              "      <td>KALIMANTAN UTARA</td>\n",
              "      <td>98.34</td>\n",
              "    </tr>\n",
              "    <tr>\n",
              "      <th>4</th>\n",
              "      <td>JAMBI</td>\n",
              "      <td>99.59</td>\n",
              "    </tr>\n",
              "    <tr>\n",
              "      <th>30</th>\n",
              "      <td>MALUKU</td>\n",
              "      <td>99.72</td>\n",
              "    </tr>\n",
              "    <tr>\n",
              "      <th>33</th>\n",
              "      <td>PAPUA</td>\n",
              "      <td>81.80</td>\n",
              "    </tr>\n",
              "    <tr>\n",
              "      <th>2</th>\n",
              "      <td>SUMATERA BARAT</td>\n",
              "      <td>99.50</td>\n",
              "    </tr>\n",
              "  </tbody>\n",
              "</table>\n",
              "</div>"
            ],
            "text/plain": [
              "               Provinsi     SD\n",
              "18  NUSA TENGGARA TIMUR  98.27\n",
              "15               BANTEN  99.31\n",
              "21   KALIMANTAN SELATAN  99.55\n",
              "12          JAWA TENGAH  99.62\n",
              "31         MALUKU UTARA  99.19\n",
              "32          PAPUA BARAT  97.27\n",
              "9             KEP. RIAU  99.32\n",
              "13        DI YOGYAKARTA  99.87\n",
              "26     SULAWESI SELATAN  99.16\n",
              "6              BENGKULU  99.80\n",
              "7               LAMPUNG  99.78\n",
              "25      SULAWESI TENGAH  98.15\n",
              "16                 BALI  99.44\n",
              "10          DKI JAKARTA  99.67\n",
              "11           JAWA BARAT  99.51\n",
              "17  NUSA TENGGARA BARAT  99.43\n",
              "1        SUMATERA UTARA  99.49\n",
              "20    KALIMANTAN TENGAH  99.50\n",
              "29       SULAWESI BARAT  98.10\n",
              "27    SULAWESI TENGGARA  99.32\n",
              "19     KALIMANTAN BARAT  98.44\n",
              "0                  ACEH  99.85\n",
              "23     KALIMANTAN UTARA  98.34\n",
              "4                 JAMBI  99.59\n",
              "30               MALUKU  99.72\n",
              "33                PAPUA  81.80\n",
              "2        SUMATERA BARAT  99.50"
            ]
          },
          "metadata": {
            "tags": []
          },
          "execution_count": 22
        }
      ]
    },
    {
      "cell_type": "code",
      "metadata": {
        "colab": {
          "base_uri": "https://localhost:8080/",
          "height": 266
        },
        "id": "xC18qgGhXlYl",
        "outputId": "ea8ed5ec-45cd-4770-e416-6287be1ef308"
      },
      "source": [
        "X_test"
      ],
      "execution_count": 23,
      "outputs": [
        {
          "output_type": "execute_result",
          "data": {
            "text/html": [
              "<div>\n",
              "<style scoped>\n",
              "    .dataframe tbody tr th:only-of-type {\n",
              "        vertical-align: middle;\n",
              "    }\n",
              "\n",
              "    .dataframe tbody tr th {\n",
              "        vertical-align: top;\n",
              "    }\n",
              "\n",
              "    .dataframe thead th {\n",
              "        text-align: right;\n",
              "    }\n",
              "</style>\n",
              "<table border=\"1\" class=\"dataframe\">\n",
              "  <thead>\n",
              "    <tr style=\"text-align: right;\">\n",
              "      <th></th>\n",
              "      <th>Provinsi</th>\n",
              "      <th>SD</th>\n",
              "    </tr>\n",
              "  </thead>\n",
              "  <tbody>\n",
              "    <tr>\n",
              "      <th>28</th>\n",
              "      <td>GORONTALO</td>\n",
              "      <td>98.76</td>\n",
              "    </tr>\n",
              "    <tr>\n",
              "      <th>3</th>\n",
              "      <td>RIAU</td>\n",
              "      <td>98.98</td>\n",
              "    </tr>\n",
              "    <tr>\n",
              "      <th>5</th>\n",
              "      <td>SUMATERA SELATAN</td>\n",
              "      <td>99.63</td>\n",
              "    </tr>\n",
              "    <tr>\n",
              "      <th>22</th>\n",
              "      <td>KALIMANTAN TIMUR</td>\n",
              "      <td>99.67</td>\n",
              "    </tr>\n",
              "    <tr>\n",
              "      <th>8</th>\n",
              "      <td>KEP. BANGKA BELITUNG</td>\n",
              "      <td>99.64</td>\n",
              "    </tr>\n",
              "    <tr>\n",
              "      <th>24</th>\n",
              "      <td>SULAWESI UTARA</td>\n",
              "      <td>99.37</td>\n",
              "    </tr>\n",
              "    <tr>\n",
              "      <th>14</th>\n",
              "      <td>JAWA TIMUR</td>\n",
              "      <td>99.57</td>\n",
              "    </tr>\n",
              "  </tbody>\n",
              "</table>\n",
              "</div>"
            ],
            "text/plain": [
              "                Provinsi     SD\n",
              "28             GORONTALO  98.76\n",
              "3                   RIAU  98.98\n",
              "5       SUMATERA SELATAN  99.63\n",
              "22      KALIMANTAN TIMUR  99.67\n",
              "8   KEP. BANGKA BELITUNG  99.64\n",
              "24        SULAWESI UTARA  99.37\n",
              "14            JAWA TIMUR  99.57"
            ]
          },
          "metadata": {
            "tags": []
          },
          "execution_count": 23
        }
      ]
    },
    {
      "cell_type": "code",
      "metadata": {
        "colab": {
          "base_uri": "https://localhost:8080/"
        },
        "id": "U-Rrfh9BXql1",
        "outputId": "0b474be6-413f-4342-d064-cc5a019e3f4e"
      },
      "source": [
        "Y_train"
      ],
      "execution_count": 24,
      "outputs": [
        {
          "output_type": "execute_result",
          "data": {
            "text/plain": [
              "18    94.76\n",
              "15    95.67\n",
              "21    92.33\n",
              "12    95.48\n",
              "31    97.24\n",
              "32    96.92\n",
              "9     99.08\n",
              "13    99.63\n",
              "26    93.09\n",
              "6     97.20\n",
              "7     94.76\n",
              "25    92.41\n",
              "16    97.72\n",
              "10    97.64\n",
              "11    93.77\n",
              "17    97.69\n",
              "1     96.60\n",
              "20    93.37\n",
              "29    89.88\n",
              "27    94.08\n",
              "19    92.51\n",
              "0     98.09\n",
              "23    96.04\n",
              "4     95.89\n",
              "30    96.86\n",
              "33    79.09\n",
              "2     96.29\n",
              "Name: SMP, dtype: float64"
            ]
          },
          "metadata": {
            "tags": []
          },
          "execution_count": 24
        }
      ]
    },
    {
      "cell_type": "code",
      "metadata": {
        "colab": {
          "base_uri": "https://localhost:8080/"
        },
        "id": "v2quwE7iX0yl",
        "outputId": "1d76c3e4-0246-4b9a-c4ea-68f4cd2821f2"
      },
      "source": [
        "Y_test"
      ],
      "execution_count": 25,
      "outputs": [
        {
          "output_type": "execute_result",
          "data": {
            "text/plain": [
              "28    91.23\n",
              "3     94.73\n",
              "5     94.01\n",
              "22    98.79\n",
              "8     92.41\n",
              "24    94.91\n",
              "14    96.77\n",
              "Name: SMP, dtype: float64"
            ]
          },
          "metadata": {
            "tags": []
          },
          "execution_count": 25
        }
      ]
    }
  ]
}